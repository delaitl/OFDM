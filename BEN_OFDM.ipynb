{
 "cells": [
  {
   "cell_type": "markdown",
   "metadata": {},
   "source": [
    "# STEP 1 - Basic OFDM chain\n",
    "\n",
    "We will simulate a basic ofdm chain on a AWGN channel\n",
    "https://dspillustrations.com/pages/posts/misc/python-ofdm-example.html"
   ]
  },
  {
   "cell_type": "code",
   "execution_count": 1,
   "metadata": {},
   "outputs": [],
   "source": [
    "import numpy as np\n",
    "import matplotlib.pyplot as plt"
   ]
  },
  {
   "cell_type": "code",
   "execution_count": 2,
   "metadata": {},
   "outputs": [
    {
     "name": "stdout",
     "output_type": "stream",
     "text": [
      "allCarriers:   [  0   1   2   3   4   5   6   7   8   9  10  11  12  13  14  15  16  17\n",
      "  18  19  20  21  22  23  24  25  26  27  28  29  30  31  32  33  34  35\n",
      "  36  37  38  39  40  41  42  43  44  45  46  47  48  49  50  51  52  53\n",
      "  54  55  56  57  58  59  60  61  62  63  64  65  66  67  68  69  70  71\n",
      "  72  73  74  75  76  77  78  79  80  81  82  83  84  85  86  87  88  89\n",
      "  90  91  92  93  94  95  96  97  98  99 100 101 102 103 104 105 106 107\n",
      " 108 109 110 111 112 113 114 115 116 117 118 119 120 121 122 123 124 125\n",
      " 126 127]\n",
      "dataCarriers:  [  0   1   2   3   4   5   6   7   8   9  10  11  12  13  14  15  16  17\n",
      "  18  19  20  21  22  23  24  25  26  27  28  29  30  31  32  33  34  35\n",
      "  36  37  38  39  40  41  42  43  44  45  46  47  48  49  50  51  52  53\n",
      "  54  55  56  57  58  59  60  61  62  63  64  65  66  67  68  69  70  71\n",
      "  72  73  74  75  76  77  78  79  80  81  82  83  84  85  86  87  88  89\n",
      "  90  91  92  93  94  95  96  97  98  99 100 101 102 103 104 105 106 107\n",
      " 108 109 110 111 112 113 114 115 116 117 118 119 120 121 122 123 124 125\n",
      " 126 127]\n"
     ]
    },
    {
     "data": {
      "image/png": "[encoded data removed]",
      "text/plain": [
       "<Figure size 432x288 with 1 Axes>"
      ]
     },
     "metadata": {
      "needs_background": "light"
     },
     "output_type": "display_data"
    }
   ],
   "source": [
    "\n",
    "#######################TRANSMISSION CARACTERISTICS##########################\n",
    "\n",
    "K = 128 # number of OFDM subcarriers\n",
    "CP = 16  # length of the cyclic prefix: 25% of the block\n",
    "P = 8 # number of pilot carriers per OFDM block\n",
    "allCarriers = np.arange(K)  # indices of all subcarriers ([0, 1, ... K-1])\n",
    "\n",
    "# data carriers are all remaining carriers\n",
    "dataCarriers = allCarriers\n",
    "\n",
    "print (\"allCarriers:   %s\" % allCarriers)\n",
    "\n",
    "print (\"dataCarriers:  %s\" % dataCarriers)\n",
    "# plt.plot(pilotCarriers, np.zeros_like(pilotCarriers), 'bo', label='pilot')\n",
    "plt.plot(dataCarriers, np.zeros_like(dataCarriers), 'ro', label='data')\n",
    "\n",
    "\n",
    "mu = 2 # bits per symbol (i.e. 4QAM)\n",
    "payloadBits_per_OFDM = K*mu  # number of payload bits per OFDM symbol"
   ]
  },
  {
   "cell_type": "code",
   "execution_count": 3,
   "metadata": {},
   "outputs": [
    {
     "data": {
      "image/png": "[encoded data removed]",
      "text/plain": [
       "<Figure size 432x288 with 1 Axes>"
      ]
     },
     "metadata": {
      "needs_background": "light"
     },
     "output_type": "display_data"
    }
   ],
   "source": [
    "\n",
    "#######################CONSTELLATION##########################\n",
    "mapping_table = {\n",
    "    (1,1) : -1-1j,\n",
    "    (1,0) : -1+1j,\n",
    "    (0,1) :  1-1j,\n",
    "    (0,0) :  1+1j\n",
    "}\n",
    "for b1 in [0, 1]:\n",
    "    for b0 in [0, 1]:\n",
    "        B = ( b1, b0)\n",
    "        Q = mapping_table[B]\n",
    "        plt.plot(Q.real, Q.imag, 'bo')\n",
    "        plt.text(Q.real, Q.imag+0.2, \"\".join(str(x) for x in B), ha='center')\n",
    "                \n",
    "plt.axhline(0,color='red') # x = 0\n",
    "plt.axvline(0,color='red') # y = 0\n",
    "plt.grid()\n",
    "plt.show()                   "
   ]
  },
  {
   "cell_type": "markdown",
   "metadata": {},
   "source": [
    "Ici la variance vaut $$(\\sqrt(1²+1j²))²$$ = 2"
   ]
  },
  {
   "cell_type": "code",
   "execution_count": 4,
   "metadata": {},
   "outputs": [],
   "source": [
    "demapping_table = {v : k for k, v in mapping_table.items()}"
   ]
  },
  {
   "cell_type": "code",
   "execution_count": 5,
   "metadata": {},
   "outputs": [
    {
     "name": "stdout",
     "output_type": "stream",
     "text": [
      "Bits count:  256\n",
      "First 20 bits:  [0 0 1 1 0 1 1 0 1 1 0 1 1 1 0 0 1 0 0 1]\n",
      "Mean of bits (should be around 0.5):  0.46875\n"
     ]
    }
   ],
   "source": [
    "\n",
    "#######################RANDOM SYMBOLS##########################\n",
    "\n",
    "bits = np.random.binomial(n=1, p=0.5, size=(payloadBits_per_OFDM, ))\n",
    "print (\"Bits count: \", len(bits))\n",
    "print (\"First 20 bits: \", bits[:20])\n",
    "print (\"Mean of bits (should be around 0.5): \", np.mean(bits))\n",
    "    \n"
   ]
  },
  {
   "cell_type": "code",
   "execution_count": 6,
   "metadata": {},
   "outputs": [
    {
     "name": "stdout",
     "output_type": "stream",
     "text": [
      "First 5 bit groups\n",
      "[[0 0]\n",
      " [1 1]\n",
      " [0 1]\n",
      " [1 0]\n",
      " [1 1]]\n"
     ]
    }
   ],
   "source": [
    "\n",
    "#######################SERIAL->PARALLEL##########################\n",
    "\"\"\"\n",
    "On met par paquet la séquence précédemment créée (paquet de 4 car 1symb = 4 bits\n",
    "\"\"\"\n",
    "def SP(bits):\n",
    "    return bits.reshape((len(dataCarriers), mu))\n",
    "bits_SP = SP(bits)\n",
    "print (\"First 5 bit groups\")\n",
    "print (bits_SP[:5,:])\n"
   ]
  },
  {
   "cell_type": "code",
   "execution_count": 7,
   "metadata": {},
   "outputs": [
    {
     "name": "stdout",
     "output_type": "stream",
     "text": [
      "First 5 QAM symbols and bits:\n",
      "[[0 0]\n",
      " [1 1]\n",
      " [0 1]\n",
      " [1 0]\n",
      " [1 1]]\n",
      "[ 1.+1.j -1.-1.j  1.-1.j -1.+1.j -1.-1.j]\n"
     ]
    }
   ],
   "source": [
    "\n",
    "#######################MAPPING##########################\n",
    "\n",
    "def Mapping(bits):\n",
    "    return np.array([mapping_table[tuple(b)] for b in bits])\n",
    "QAM = Mapping(bits_SP)\n",
    "print (\"First 5 QAM symbols and bits:\")\n",
    "print (bits_SP[:5,:])\n",
    "print (QAM[:5])"
   ]
  },
  {
   "cell_type": "code",
   "execution_count": 8,
   "metadata": {},
   "outputs": [
    {
     "name": "stdout",
     "output_type": "stream",
     "text": [
      "Number of OFDM carriers in frequency domain:  128\n"
     ]
    }
   ],
   "source": [
    "def OFDM_symbol(QAM_payload):\n",
    "    symbol = np.zeros(K, dtype=complex) # the overall K subcarriers\n",
    "    #symbol[pilotCarriers] = pilotValue  # allocate the pilot subcarriers \n",
    "    symbol[dataCarriers] = QAM_payload  # allocate the pilot subcarriers\n",
    "    return symbol\n",
    "OFDM_data = OFDM_symbol(QAM)\n",
    "print (\"Number of OFDM carriers in frequency domain: \", len(OFDM_data))"
   ]
  },
  {
   "cell_type": "code",
   "execution_count": 9,
   "metadata": {},
   "outputs": [
    {
     "name": "stdout",
     "output_type": "stream",
     "text": [
      "Number of OFDM samples in time-domain before CP:  128\n"
     ]
    }
   ],
   "source": [
    "def IDFT(OFDM_data):\n",
    "    return np.fft.ifft(OFDM_data)\n",
    "OFDM_time = IDFT(OFDM_data)\n",
    "print (\"Number of OFDM samples in time-domain before CP: \", len(OFDM_time))"
   ]
  },
  {
   "cell_type": "code",
   "execution_count": 10,
   "metadata": {},
   "outputs": [
    {
     "name": "stdout",
     "output_type": "stream",
     "text": [
      "Number of OFDM samples in time domain with CP:  144\n"
     ]
    }
   ],
   "source": [
    "def addCP(OFDM_time):\n",
    "    cp = OFDM_time[-CP:]               # take the last CP samples ...\n",
    "    return np.hstack([cp, OFDM_time])  # ... and add them to the beginning\n",
    "OFDM_withCP = addCP(OFDM_time)\n",
    "print (\"Number of OFDM samples in time domain with CP: \", len(OFDM_withCP))\n",
    "OFDM_TX = OFDM_withCP"
   ]
  },
  {
   "cell_type": "code",
   "execution_count": 11,
   "metadata": {},
   "outputs": [
    {
     "name": "stdout",
     "output_type": "stream",
     "text": [
      "[-0.06629126+0.10669417j -0.03352584-0.08393888j  0.09641933+0.04701816j\n",
      "  0.00062421+0.1134401j  -0.04238975-0.06611086j]\n"
     ]
    }
   ],
   "source": [
    "print(OFDM_TX[:5])"
   ]
  },
  {
   "cell_type": "code",
   "execution_count": 12,
   "metadata": {},
   "outputs": [
    {
     "name": "stdout",
     "output_type": "stream",
     "text": [
      "0.027777777777777776\n"
     ]
    }
   ],
   "source": [
    "def awgn(TX, var):\n",
    "    num=len(TX)\n",
    "    noisei = np.random.normal(0,var,num)\n",
    "    noisej = 1j*np.random.normal(0,var,num)\n",
    "    RX = TX[:]+noisei[:]+noisej[:]\n",
    "    return RX\n",
    "esno = 20\n",
    "nbits = len(OFDM_TX)\n",
    "sigs =  2 #Sigmasquare of signal\n",
    "var = (sigs * (nbits+CP))/( 2*esno*nbits) #Variance as function of esno \n",
    "var = var/2 #Devide by 2 because we're on the complex plane\n",
    "   # print(var)\n",
    "print(var)\n",
    "OFDM_RX = awgn(OFDM_TX,var)"
   ]
  },
  {
   "cell_type": "code",
   "execution_count": 13,
   "metadata": {},
   "outputs": [],
   "source": [
    "def removeCP(signal):\n",
    "    return signal[CP:(CP+K)]\n",
    "OFDM_RX_noCP = removeCP(OFDM_RX) #ICI j'ai pris TX"
   ]
  },
  {
   "cell_type": "code",
   "execution_count": 14,
   "metadata": {},
   "outputs": [],
   "source": [
    "def DFT(OFDM_RX):\n",
    "    return np.fft.fft(OFDM_RX)\n",
    "OFDM_demod = DFT(OFDM_RX_noCP)"
   ]
  },
  {
   "cell_type": "markdown",
   "metadata": {},
   "source": [
    "# CHANNEL esitimate not done"
   ]
  },
  {
   "cell_type": "code",
   "execution_count": 15,
   "metadata": {},
   "outputs": [
    {
     "data": {
      "image/png": "[encoded data removed]",
      "text/plain": [
       "<Figure size 432x288 with 1 Axes>"
      ]
     },
     "metadata": {
      "needs_background": "light"
     },
     "output_type": "display_data"
    }
   ],
   "source": [
    "def get_payload(equalized):\n",
    "    return equalized[dataCarriers]\n",
    "QAM_est = get_payload(OFDM_demod)\n",
    "plt.plot(QAM_est.real, QAM_est.imag, 'bs');\n",
    "plt.plot(OFDM_demod.real, OFDM_demod.imag, 'ro');"
   ]
  },
  {
   "cell_type": "code",
   "execution_count": 16,
   "metadata": {},
   "outputs": [
    {
     "data": {
      "image/png": "[encoded data removed]",
      "text/plain": [
       "<Figure size 432x288 with 1 Axes>"
      ]
     },
     "metadata": {
      "needs_background": "light"
     },
     "output_type": "display_data"
    }
   ],
   "source": [
    "def Demapping(QAM):\n",
    "    # array of possible constellation points\n",
    "    constellation = np.array([x for x in demapping_table.keys()])\n",
    "    \n",
    "    # calculate distance of each RX point to each possible point\n",
    "    dists = abs(QAM.reshape((-1,1)) - constellation.reshape((1,-1)))\n",
    "    \n",
    "    # for each element in QAM, choose the index in constellation \n",
    "    # that belongs to the nearest constellation point\n",
    "    const_index = dists.argmin(axis=1)\n",
    "    \n",
    "    # get back the real constellation point\n",
    "    hardDecision = constellation[const_index]\n",
    "    \n",
    "    # transform the constellation point into the bit groups\n",
    "    return np.vstack([demapping_table[C] for C in hardDecision]), hardDecision\n",
    "\n",
    "PS_est, hardDecision = Demapping(QAM_est)\n",
    "for qam, hard in zip(QAM_est, hardDecision):\n",
    "    plt.plot([qam.real, hard.real], [qam.imag, hard.imag], 'b-o');\n",
    "    plt.plot(hardDecision.real, hardDecision.imag, 'ro')"
   ]
  },
  {
   "cell_type": "code",
   "execution_count": 17,
   "metadata": {},
   "outputs": [],
   "source": [
    "def PS(bits):\n",
    "    return bits.reshape((-1,))\n",
    "bits_est = PS(PS_est)\n"
   ]
  },
  {
   "cell_type": "code",
   "execution_count": 51,
   "metadata": {},
   "outputs": [
    {
     "name": "stdout",
     "output_type": "stream",
     "text": [
      "Obtained Bit error rate:  0.0\n"
     ]
    }
   ],
   "source": [
    "print (\"Obtained Bit error rate: \", np.sum(abs(bits-bits_est))/len(bits))"
   ]
  },
  {
   "cell_type": "code",
   "execution_count": null,
   "metadata": {},
   "outputs": [],
   "source": []
  },
  {
   "cell_type": "code",
   "execution_count": null,
   "metadata": {},
   "outputs": [],
   "source": []
  }
 ],
 "metadata": {
  "kernelspec": {
   "display_name": "Python 3",
   "language": "python",
   "name": "python3"
  },
  "language_info": {
   "codemirror_mode": {
    "name": "ipython",
    "version": 3
   },
   "file_extension": ".py",
   "mimetype": "text/x-python",
   "name": "python",
   "nbconvert_exporter": "python",
   "pygments_lexer": "ipython3",
   "version": "3.8.5"
  }
 },
 "nbformat": 4,
 "nbformat_minor": 4
}

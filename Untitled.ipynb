{
 "cells": [
  {
   "cell_type": "code",
   "execution_count": 1,
   "metadata": {},
   "outputs": [
    {
     "name": "stdout",
     "output_type": "stream",
     "text": [
      "Total number of OFDM symbols 10000\n",
      "Total number of bits 1280000\n",
      "Total number of bits in error 147\n",
      "Energy per bit to noise PSD(dB) 34.0\n",
      "Bit Error Rate 0.00011484375\n"
     ]
    }
   ],
   "source": [
    "from numpy import sqrt\n",
    "from numpy.random import rand, randn\n",
    "import numpy as np\n",
    "\n",
    "n_cyc=32\n",
    "n_fft=128\n",
    "n_sym=10000\n",
    "n_bits=n_fft*n_sym\n",
    "\n",
    "n_tap=10\n",
    "Eb=1.0\n",
    "EbNodB=34.0\n",
    "EbNo=10**(EbNodB/10.0)\n",
    "\n",
    "s_in=2*(rand(n_bits)>=0.5)-1\n",
    "s_est=np.zeros(n_bits)\n",
    "\n",
    "for n in range (0, n_sym):\n",
    "    s_ofdm=sqrt(n_fft)*np.fft.ifft(s_in[n*n_fft:(n+1)*n_fft])\n",
    "    s_ofdm_cyc=np.concatenate((s_ofdm[n_fft-n_cyc:n_fft], s_ofdm), axis=0)\n",
    "    ht=(1/sqrt(2))*(1/sqrt(n_tap))*(randn(n_tap)+1j*randn(n_tap));\n",
    "    Hf=np.fft.fft(ht,n_fft)\n",
    "    r_ofdm=np.convolve(s_ofdm_cyc,ht)\n",
    "    r_ofdm_cyc=(r_ofdm[0:n_fft+n_cyc])\n",
    "    wn=randn(n_fft+n_cyc)+1j*randn(n_fft+n_cyc)\n",
    "    r_ofdm_cyc=r_ofdm_cyc+sqrt(Eb/(2*EbNo))*wn\n",
    "    r_ofdm_cropped=r_ofdm_cyc[n_cyc:n_fft+n_cyc]\n",
    "    s_est[n*n_fft:(n+1)*n_fft]=(1/sqrt(n_fft))*np.real((np.fft.fft(r_ofdm_cropped))/Hf)\n",
    "    \n",
    "s_out=2*(s_est>=0)-1  \n",
    "errors=(s_in!=s_out).sum()\n",
    "ber=1.0*errors/n_bits\n",
    "\n",
    "print('Total number of OFDM symbols', n_sym)\n",
    "print('Total number of bits', n_bits)\n",
    "print('Total number of bits in error', errors)\n",
    "print('Energy per bit to noise PSD(dB)', EbNodB)\n",
    "print('Bit Error Rate', ber)"
   ]
  },
  {
   "cell_type": "code",
   "execution_count": null,
   "metadata": {},
   "outputs": [],
   "source": []
  }
 ],
 "metadata": {
  "kernelspec": {
   "display_name": "Python 3",
   "language": "python",
   "name": "python3"
  },
  "language_info": {
   "codemirror_mode": {
    "name": "ipython",
    "version": 3
   },
   "file_extension": ".py",
   "mimetype": "text/x-python",
   "name": "python",
   "nbconvert_exporter": "python",
   "pygments_lexer": "ipython3",
   "version": "3.8.5"
  }
 },
 "nbformat": 4,
 "nbformat_minor": 4
}

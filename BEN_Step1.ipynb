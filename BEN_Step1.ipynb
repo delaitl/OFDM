{
 "cells": [
  {
   "cell_type": "markdown",
   "metadata": {},
   "source": [
    "# OFDM Get Ber from SNR"
   ]
  },
  {
   "cell_type": "code",
   "execution_count": 5,
   "metadata": {},
   "outputs": [],
   "source": [
    "import numpy as np\n",
    "import matplotlib.pyplot as plt"
   ]
  },
  {
   "cell_type": "code",
   "execution_count": 6,
   "metadata": {},
   "outputs": [],
   "source": [
    "#######################TRANSMISSION CARACTERISTICS##########################\n",
    "\n",
    "K = 128 # number of OFDM subcarriers\n",
    "CP = 16  # length of the cyclic prefix: 25% of the block\n",
    "#pilotValue = 3+3j # The known value each pilot transmits\n",
    "\n",
    "allCarriers = np.arange(K)  # indices of all subcarriers ([0, 1, ... K-1])\n",
    "\n",
    "\n",
    "# data carriers are all remaining carriers\n",
    "dataCarriers = allCarriers\n",
    "\n",
    "mu = 2 # bits per symbol (i.e. 4QAM)\n",
    "payloadBits_per_OFDM = K*mu  # number of payload bits per OFDM symbol"
   ]
  },
  {
   "cell_type": "code",
   "execution_count": 7,
   "metadata": {},
   "outputs": [],
   "source": [
    "mapping_table = {\n",
    "    (1,1) : -1-1j,\n",
    "    (1,0) : -1+1j,\n",
    "    (0,1) :  1-1j,\n",
    "    (0,0) :  1+1j\n",
    "}\n",
    "demapping_table = {v : k for k, v in mapping_table.items()}"
   ]
  },
  {
   "cell_type": "code",
   "execution_count": null,
   "metadata": {},
   "outputs": [],
   "source": []
  },
  {
   "cell_type": "code",
   "execution_count": 8,
   "metadata": {},
   "outputs": [],
   "source": [
    "#Change from serial to paralel\n",
    "def SP(bits):\n",
    "    return bits.reshape((len(dataCarriers), mu))\n",
    "\n",
    "\n",
    "def Mapping(bits):\n",
    "    return np.array([mapping_table[tuple(b)] for b in bits])\n",
    "\n",
    "#IDFT using sqrt ! important\n",
    "def IDFT(OFDM_data):\n",
    "    return np.sqrt(len(OFDM_data))*np.fft.ifft(OFDM_data)\n",
    "\n",
    "#Add the CP \n",
    "def addCP(OFDM_time):\n",
    "    cp = OFDM_time[-CP:]  \n",
    "    return np.hstack([cp, OFDM_time]) \n",
    "\n",
    "\n",
    "def awgn(TX, var):\n",
    "    num=len(TX)\n",
    "    noisei = np.random.normal(0,np.sqrt(var),num)\n",
    "    noisej = 1j*np.random.normal(0,np.sqrt(var),num)\n",
    "    RX = TX[:]+noisei[:]+noisej[:]\n",
    "    return RX\n",
    "\n",
    "\n",
    "def removeCP(signal):\n",
    "    return signal[CP:(CP+K)]\n",
    "\n",
    "#DFT according to idft\n",
    "def DFT(OFDM_RX):\n",
    "    return np.fft.fft(OFDM_RX)/ np.sqrt(len(OFDM_RX))\n",
    "\n",
    "\n",
    "def Demapping(QAM):\n",
    "    # array of possible constellation points\n",
    "    constellation = np.array([x for x in demapping_table.keys()])\n",
    "    \n",
    "    # calculate distance of each RX point to each possible point\n",
    "    dists = abs(QAM.reshape((-1,1)) - constellation.reshape((1,-1)))\n",
    "    \n",
    "    # for each element in QAM, choose the index in constellation \n",
    "    # that belongs to the nearest constellation point\n",
    "    const_index = dists.argmin(axis=1)\n",
    "    \n",
    "    # get back the real constellation point\n",
    "    hardDecision = constellation[const_index]\n",
    "    \n",
    "    # transform the constellation point into the bit groups\n",
    "    return np.vstack([demapping_table[C] for C in hardDecision]), hardDecision\n",
    "\n",
    "\n",
    "def PS(bits):\n",
    "    return bits.reshape((-1,))"
   ]
  },
  {
   "cell_type": "code",
   "execution_count": 9,
   "metadata": {},
   "outputs": [],
   "source": [
    "from scipy.special import erfc, erfcinv"
   ]
  },
  {
   "cell_type": "code",
   "execution_count": 10,
   "metadata": {},
   "outputs": [
    {
     "name": "stdout",
     "output_type": "stream",
     "text": [
      "es/no = 1dB -- Average over 1000 symbols with variance: 0.89 is 0.14382421875\n",
      "es/no = 2dB -- Average over 1000 symbols with variance: 0.71 is 0.1183359375\n",
      "es/no = 3dB -- Average over 1000 symbols with variance: 0.56 is 0.09273828125\n",
      "es/no = 4dB -- Average over 1000 symbols with variance: 0.45 is 0.06787109375\n",
      "es/no = 5dB -- Average over 1000 symbols with variance: 0.36 is 0.0459140625\n",
      "es/no = 6dB -- Average over 1000 symbols with variance: 0.28 is 0.029640625\n",
      "es/no = 7dB -- Average over 1000 symbols with variance: 0.22 is 0.0173515625\n",
      "es/no = 8dB -- Average over 1000 symbols with variance: 0.18 is 0.00874609375\n",
      "es/no = 9dB -- Average over 1000 symbols with variance: 0.14 is 0.00403125\n",
      "es/no = 10dB -- Average over 1000 symbols with variance: 0.11 is 0.0014765625\n",
      "es/no = 11dB -- Average over 1000 symbols with variance: 0.09 is 0.00046484375\n",
      "es/no = 12dB -- Average over 1000 symbols with variance: 0.07 is 5.859375e-05\n",
      "es/no = 13dB -- Average over 1000 symbols with variance: 0.06 is 3.90625e-06\n",
      "es/no = 14dB -- Average over 1000 symbols with variance: 0.04 is 3.90625e-06\n"
     ]
    },
    {
     "data": {
      "text/plain": [
       "<matplotlib.legend.Legend at 0x7efc4aaca280>"
      ]
     },
     "execution_count": 10,
     "metadata": {},
     "output_type": "execute_result"
    },
    {
     "data": {
      "image/png": "[encoded data removed]",
      "text/plain": [
       "<Figure size 432x288 with 1 Axes>"
      ]
     },
     "metadata": {
      "needs_background": "light"
     },
     "output_type": "display_data"
    }
   ],
   "source": [
    "import copy \n",
    "def getber(esno):\n",
    "    K = 128\n",
    "    nbits = 256\n",
    "    inbits = np.random.binomial(n=1, p=0.5, size=(nbits, )) #Create random bits\n",
    "    bits = copy.deepcopy(inbits)\n",
    "    \n",
    "\n",
    "    var=esno\n",
    "    \n",
    "    bits = SP(bits)\n",
    "    bits = Mapping(bits)\n",
    "    bits = IDFT(bits)\n",
    "    bits = addCP(bits)\n",
    "    bits = awgn(bits, var)\n",
    "    bits = removeCP(bits)\n",
    "    bits = DFT(bits)\n",
    "    bits, hardDecision = Demapping(bits)\n",
    "    bits = PS(bits)\n",
    "    BER = np.sum(abs(bits-inbits))/len(bits)\n",
    "    return BER\n",
    "    print(BER)\n",
    "\n",
    "\n",
    "results = []\n",
    "for i in range(1,15):\n",
    "    \n",
    "    sigs =  2 #Sigmasquare of signal\n",
    "    ESNO = 10**(i/10)\n",
    "    var=sigs/(ESNO*2)\n",
    "    var = var * (144/128)\n",
    "    niter = 1000\n",
    "    bers=np.zeros(niter)\n",
    "    \n",
    "    for j in range(niter): #Do 1000 experiments\n",
    "        bers[j] = getber(var)\n",
    "    a=np.average(bers)\n",
    "    print('es/no = {}dB -- Average over {} symbols with variance: {:.2f} is {}'.format(i,niter,var,a))\n",
    "    results.append(a)\n",
    "    \n",
    "plt.plot(results)\n",
    "plt.yscale(\"log\")\n",
    "\n",
    "\n",
    "\n",
    "esno = np.arange(1,15)\n",
    "esno = 10**(esno/10)\n",
    "SNR = esno/(144/128)\n",
    "theroy= (1/2)*erfc(np.sqrt(SNR/2))\n",
    "plt.plot(theroy)\n",
    "plt.legend(['Simulation', 'Theory'])"
   ]
  },
  {
   "cell_type": "code",
   "execution_count": 11,
   "metadata": {},
   "outputs": [],
   "source": [
    "def bervar(Subcarriers, CP, bps, esno):   \n",
    "    K = Subcarriers\n",
    "    payloadBits_per_OFDM = K*bps #Subcarriers * bits per symbol\n",
    "    bits = np.random.binomial(n=1, p=0.5, size=(payloadBits_per_OFDM, )) #Create random bits\n",
    "    N = payloadBits_per_OFDM\n",
    "    \n",
    "    sigs =  2 #Sigmasquare of signal\n",
    "    var = (sigs * (N+CP))/( 2*esno*N) #Variance as function of esno \n",
    "    var = var/2 #Devide by 2 because we're on the complex plane\n",
    "   # print(var)\n",
    "    \n",
    "    bits_SP = SP(bits)\n",
    "    QAM = Mapping(bits_SP)\n",
    "    #OFDM_data = OFDM_symbol(QAM)\n",
    "    OFDM_time = IDFT(QAM)\n",
    "    OFDM_withCP = addCP(OFDM_time)\n",
    "    OFDM_TX = OFDM_withCP\n",
    "    OFDM_RX = awgn(OFDM_TX,var) #Applies AWGN to each element with a given variance\n",
    "    OFDM_RX_noCP = removeCP(OFDM_RX) \n",
    "    OFDM_demod = DFT(OFDM_RX_noCP)\n",
    "    PS_est, hardDecision = Demapping(OFDM_demod)\n",
    "    bits_est = PS(PS_est)\n",
    "    BER = np.sum(abs(bits-bits_est))/len(bits)\n",
    "\n",
    "    return BER\n",
    "    \n"
   ]
  },
  {
   "cell_type": "code",
   "execution_count": 12,
   "metadata": {
    "scrolled": true
   },
   "outputs": [
    {
     "data": {
      "image/png": "[encoded data removed]",
      "text/plain": [
       "<Figure size 432x288 with 1 Axes>"
      ]
     },
     "metadata": {
      "needs_background": "light"
     },
     "output_type": "display_data"
    }
   ],
   "source": [
    "varss= np.linspace(1,100,10)\n",
    "#def bersnr(K, CP, P, bps, var):\n",
    "\n",
    "\n",
    "#Applique la fonction bervar à chaque element de varss\n",
    "BERS = np.array(list(map(lambda x:bervar(128, 4, 2, x/10), varss)))\n",
    "\n",
    "plt.plot((varss),BERS, '-o')\n",
    "plt.title(\"BER as a function of ES/NO\")\n",
    "plt.xlabel(\"\")\n",
    "\n",
    "plt.ylabel(\"BER\")\n",
    "plt.show()\n"
   ]
  },
  {
   "cell_type": "code",
   "execution_count": null,
   "metadata": {},
   "outputs": [],
   "source": []
  },
  {
   "cell_type": "code",
   "execution_count": 13,
   "metadata": {
    "scrolled": true
   },
   "outputs": [
    {
     "ename": "NameError",
     "evalue": "name 'Hf' is not defined",
     "output_type": "error",
     "traceback": [
      "\u001b[0;31m---------------------------------------------------------------------------\u001b[0m",
      "\u001b[0;31mNameError\u001b[0m                                 Traceback (most recent call last)",
      "\u001b[0;32m<ipython-input-13-b54439d826a0>\u001b[0m in \u001b[0;36m<module>\u001b[0;34m\u001b[0m\n\u001b[1;32m     32\u001b[0m         \u001b[0mr_ofdm_cyc\u001b[0m\u001b[0;34m=\u001b[0m\u001b[0mr_ofdm_cyc\u001b[0m\u001b[0;34m+\u001b[0m\u001b[0msqrt\u001b[0m\u001b[0;34m(\u001b[0m\u001b[0mEb\u001b[0m\u001b[0;34m/\u001b[0m\u001b[0;34m(\u001b[0m\u001b[0;36m2\u001b[0m\u001b[0;34m*\u001b[0m\u001b[0mEbNo\u001b[0m\u001b[0;34m)\u001b[0m\u001b[0;34m)\u001b[0m\u001b[0;34m*\u001b[0m\u001b[0mwn\u001b[0m\u001b[0;34m\u001b[0m\u001b[0;34m\u001b[0m\u001b[0m\n\u001b[1;32m     33\u001b[0m         \u001b[0mr_ofdm_cropped\u001b[0m\u001b[0;34m=\u001b[0m\u001b[0mr_ofdm_cyc\u001b[0m\u001b[0;34m[\u001b[0m\u001b[0mn_cyc\u001b[0m\u001b[0;34m:\u001b[0m\u001b[0mn_fft\u001b[0m\u001b[0;34m+\u001b[0m\u001b[0mn_cyc\u001b[0m\u001b[0;34m]\u001b[0m\u001b[0;34m\u001b[0m\u001b[0;34m\u001b[0m\u001b[0m\n\u001b[0;32m---> 34\u001b[0;31m         \u001b[0ms_est\u001b[0m\u001b[0;34m[\u001b[0m\u001b[0mn\u001b[0m\u001b[0;34m*\u001b[0m\u001b[0mn_fft\u001b[0m\u001b[0;34m:\u001b[0m\u001b[0;34m(\u001b[0m\u001b[0mn\u001b[0m\u001b[0;34m+\u001b[0m\u001b[0;36m1\u001b[0m\u001b[0;34m)\u001b[0m\u001b[0;34m*\u001b[0m\u001b[0mn_fft\u001b[0m\u001b[0;34m]\u001b[0m\u001b[0;34m=\u001b[0m\u001b[0;34m(\u001b[0m\u001b[0;36m1\u001b[0m\u001b[0;34m/\u001b[0m\u001b[0msqrt\u001b[0m\u001b[0;34m(\u001b[0m\u001b[0mn_fft\u001b[0m\u001b[0;34m)\u001b[0m\u001b[0;34m)\u001b[0m\u001b[0;34m*\u001b[0m\u001b[0mnp\u001b[0m\u001b[0;34m.\u001b[0m\u001b[0mreal\u001b[0m\u001b[0;34m(\u001b[0m\u001b[0;34m(\u001b[0m\u001b[0mnp\u001b[0m\u001b[0;34m.\u001b[0m\u001b[0mfft\u001b[0m\u001b[0;34m.\u001b[0m\u001b[0mfft\u001b[0m\u001b[0;34m(\u001b[0m\u001b[0mr_ofdm_cropped\u001b[0m\u001b[0;34m)\u001b[0m\u001b[0;34m)\u001b[0m\u001b[0;34m/\u001b[0m\u001b[0mHf\u001b[0m\u001b[0;34m)\u001b[0m\u001b[0;34m\u001b[0m\u001b[0;34m\u001b[0m\u001b[0m\n\u001b[0m\u001b[1;32m     35\u001b[0m \u001b[0;34m\u001b[0m\u001b[0m\n\u001b[1;32m     36\u001b[0m     \u001b[0ms_out\u001b[0m\u001b[0;34m=\u001b[0m\u001b[0;36m2\u001b[0m\u001b[0;34m*\u001b[0m\u001b[0;34m(\u001b[0m\u001b[0ms_est\u001b[0m\u001b[0;34m>=\u001b[0m\u001b[0;36m0\u001b[0m\u001b[0;34m)\u001b[0m\u001b[0;34m-\u001b[0m\u001b[0;36m1\u001b[0m\u001b[0;34m\u001b[0m\u001b[0;34m\u001b[0m\u001b[0m\n",
      "\u001b[0;31mNameError\u001b[0m: name 'Hf' is not defined"
     ]
    }
   ],
   "source": [
    "\n",
    "from numpy import sqrt\n",
    "from numpy.random import rand, randn\n",
    "import numpy as np\n",
    "\n",
    "esno = np.arange(0,16)\n",
    "results =[]\n",
    "\n",
    "n_cyc=16\n",
    "n_fft=128\n",
    "n_sym=10000\n",
    "n_bits=n_fft*n_sym\n",
    "\n",
    "for i in esno: \n",
    "\n",
    "    n_tap=10\n",
    "    Eb=1.0\n",
    "    EbNodB=i\n",
    "    EbNo=10**(EbNodB/10.0)\n",
    "\n",
    "    s_in=2*(rand(n_bits)>=0.5)-1\n",
    "    s_est=np.zeros(n_bits)\n",
    "\n",
    "\n",
    "\n",
    "    for n in range (0, n_sym):\n",
    "        s_ofdm=sqrt(n_fft)*np.fft.ifft(s_in[n*n_fft:(n+1)*n_fft])\n",
    "        s_ofdm_cyc=np.concatenate((s_ofdm[n_fft-n_cyc:n_fft], s_ofdm), axis=0)\n",
    "        \n",
    "        r_ofdm=s_ofdm_cyc\n",
    "        r_ofdm_cyc=(r_ofdm[0:n_fft+n_cyc])\n",
    "        wn=randn(n_fft+n_cyc)+1j*randn(n_fft+n_cyc)\n",
    "        r_ofdm_cyc=r_ofdm_cyc+sqrt(Eb/(2*EbNo))*wn\n",
    "        r_ofdm_cropped=r_ofdm_cyc[n_cyc:n_fft+n_cyc]\n",
    "        s_est[n*n_fft:(n+1)*n_fft]=(1/sqrt(n_fft))*np.real((np.fft.fft(r_ofdm_cropped))/Hf)\n",
    "    \n",
    "    s_out=2*(s_est>=0)-1  \n",
    "    errors=(s_in!=s_out).sum()\n",
    "    ber=1.0*errors/n_bits\n",
    "\n",
    "    print('Total number of OFDM symbols', n_sym)\n",
    "    print('Total number of bits', n_bits)\n",
    "    print('Total number of bits in error', errors)\n",
    "    print('Energy per bit to noise PSD(dB)', EbNodB)\n",
    "    print('Bit Error Rate', ber)\n",
    "    print()\n",
    "    results.append(ber)\n"
   ]
  },
  {
   "cell_type": "code",
   "execution_count": null,
   "metadata": {},
   "outputs": [],
   "source": [
    "plt.plot(esno,results)\n",
    "plt.yscale('log')"
   ]
  },
  {
   "cell_type": "code",
   "execution_count": null,
   "metadata": {},
   "outputs": [],
   "source": []
  },
  {
   "cell_type": "code",
   "execution_count": null,
   "metadata": {},
   "outputs": [],
   "source": []
  }
 ],
 "metadata": {
  "kernelspec": {
   "display_name": "Python 3",
   "language": "python",
   "name": "python3"
  },
  "language_info": {
   "codemirror_mode": {
    "name": "ipython",
    "version": 3
   },
   "file_extension": ".py",
   "mimetype": "text/x-python",
   "name": "python",
   "nbconvert_exporter": "python",
   "pygments_lexer": "ipython3",
   "version": "3.8.5"
  }
 },
 "nbformat": 4,
 "nbformat_minor": 4
}
